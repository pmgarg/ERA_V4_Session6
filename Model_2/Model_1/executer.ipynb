{
 "cells": [
  {
   "cell_type": "code",
   "execution_count": 1,
   "id": "a3ef9479",
   "metadata": {},
   "outputs": [],
   "source": [
    "import torch\n",
    "import torch.nn as nn\n",
    "import torch.optim as optim\n",
    "from torchvision import datasets, transforms\n",
    "import matplotlib.pyplot as plt\n",
    "from torch.optim.lr_scheduler import OneCycleLR\n",
    "from model import Net\n",
    "from training import train,test, train_losses, train_acc, test_losses, test_acc"
   ]
  },
  {
   "cell_type": "code",
   "execution_count": 2,
   "id": "e32ea369",
   "metadata": {},
   "outputs": [
    {
     "name": "stdout",
     "output_type": "stream",
     "text": [
      "MPS Available\n"
     ]
    }
   ],
   "source": [
    "if torch.cuda.is_available():\n",
    "    device = torch.device(\"cuda\")\n",
    "    print(\"CUDA Available\")\n",
    "elif torch.backends.mps.is_available():\n",
    "    device = torch.device(\"mps\")\n",
    "    print(\"MPS Available\")\n",
    "else:\n",
    "    device = torch.device(\"cpu\")\n",
    "    print(\"Using CPU\")"
   ]
  },
  {
   "cell_type": "code",
   "execution_count": 3,
   "id": "9798fdae",
   "metadata": {},
   "outputs": [],
   "source": [
    "train_transforms = transforms.Compose([\n",
    "                        transforms.RandomAffine(degrees=7, translate=(0.08, 0.08)),\n",
    "                        transforms.ToTensor(),\n",
    "                        transforms.Normalize((0.1307,), (0.3081,))\n",
    "                        # ,transforms.RandomErasing(p=0.05, scale=(0.02, 0.05), ratio=(0.3, 3.3))  # tiny, optional\n",
    "                        ])\n",
    "test_transforms = transforms.Compose([\n",
    "                        transforms.ToTensor(),\n",
    "                        transforms.Normalize((0.1307,), (0.3081,))\n",
    "                    ])"
   ]
  },
  {
   "cell_type": "code",
   "execution_count": 4,
   "id": "a5e8e05f",
   "metadata": {},
   "outputs": [
    {
     "name": "stderr",
     "output_type": "stream",
     "text": [
      "100%|██████████| 9.91M/9.91M [00:21<00:00, 454kB/s] \n",
      "100%|██████████| 28.9k/28.9k [00:00<00:00, 71.0kB/s]\n",
      "100%|██████████| 1.65M/1.65M [00:09<00:00, 176kB/s] \n",
      "100%|██████████| 4.54k/4.54k [00:00<00:00, 4.81MB/s]\n"
     ]
    }
   ],
   "source": [
    "train_data = datasets.MNIST('../data', train=True, download=True, transform=train_transforms)\n",
    "test_data = datasets.MNIST('../data', train=False, download=True, transform=test_transforms)"
   ]
  },
  {
   "cell_type": "code",
   "execution_count": 5,
   "id": "5a4c2ba1",
   "metadata": {},
   "outputs": [],
   "source": [
    "batch_size = 128\n",
    "kwargs = {'batch_size': batch_size, 'shuffle': True, 'num_workers': 2, 'pin_memory': True}\n",
    "\n",
    "train_loader = torch.utils.data.DataLoader(train_data, **kwargs)\n",
    "test_loader = torch.utils.data.DataLoader(test_data, batch_size=1000, shuffle=False)"
   ]
  },
  {
   "cell_type": "code",
   "execution_count": 6,
   "id": "83b46915",
   "metadata": {},
   "outputs": [
    {
     "name": "stderr",
     "output_type": "stream",
     "text": [
      "/opt/anaconda3/lib/python3.12/site-packages/torch/utils/data/dataloader.py:684: UserWarning: 'pin_memory' argument is set as true but not supported on MPS now, then device pinned memory won't be used.\n",
      "  warnings.warn(warn_msg)\n"
     ]
    },
    {
     "data": {
      "image/png": "[encoded data removed]",
      "text/plain": [
       "<Figure size 1200x800 with 12 Axes>"
      ]
     },
     "metadata": {},
     "output_type": "display_data"
    }
   ],
   "source": [
    "def visualize_batch():\n",
    "    batch_data, batch_label = next(iter(train_loader))\n",
    "    fig = plt.figure(figsize=(12, 8))\n",
    "    for i in range(12):\n",
    "        plt.subplot(3, 4, i+1)\n",
    "        plt.tight_layout()\n",
    "        plt.imshow(batch_data[i].squeeze(0), cmap='gray')\n",
    "        plt.title(batch_label[i].item())\n",
    "        plt.xticks([])\n",
    "        plt.yticks([])\n",
    "    plt.show()\n",
    "\n",
    "visualize_batch()"
   ]
  },
  {
   "cell_type": "code",
   "execution_count": 7,
   "id": "5b066d7c",
   "metadata": {},
   "outputs": [
    {
     "name": "stdout",
     "output_type": "stream",
     "text": [
      "\n",
      "Model Parameters: 7,784\n",
      "Model Architecture:\n",
      "Net(\n",
      "  (conv1): Conv2d(1, 7, kernel_size=(3, 3), stride=(1, 1), bias=False)\n",
      "  (bn1): BatchNorm2d(7, eps=1e-05, momentum=0.1, affine=True, track_running_stats=True)\n",
      "  (conv2): Conv2d(7, 7, kernel_size=(3, 3), stride=(1, 1), bias=False)\n",
      "  (bn2): BatchNorm2d(7, eps=1e-05, momentum=0.1, affine=True, track_running_stats=True)\n",
      "  (conv3): Conv2d(7, 10, kernel_size=(3, 3), stride=(1, 1), bias=False)\n",
      "  (bn3): BatchNorm2d(10, eps=1e-05, momentum=0.1, affine=True, track_running_stats=True)\n",
      "  (pool1): MaxPool2d(kernel_size=2, stride=2, padding=0, dilation=1, ceil_mode=False)\n",
      "  (conv4): Conv2d(10, 10, kernel_size=(3, 3), stride=(1, 1), bias=False)\n",
      "  (bn4): BatchNorm2d(10, eps=1e-05, momentum=0.1, affine=True, track_running_stats=True)\n",
      "  (conv5): Conv2d(10, 12, kernel_size=(3, 3), stride=(1, 1), bias=False)\n",
      "  (bn5): BatchNorm2d(12, eps=1e-05, momentum=0.1, affine=True, track_running_stats=True)\n",
      "  (pool2): MaxPool2d(kernel_size=2, stride=2, padding=0, dilation=1, ceil_mode=False)\n",
      "  (conv6): Conv2d(12, 16, kernel_size=(3, 3), stride=(1, 1), padding=(1, 1), bias=False)\n",
      "  (bn6): BatchNorm2d(16, eps=1e-05, momentum=0.1, affine=True, track_running_stats=True)\n",
      "  (conv7): Conv2d(16, 18, kernel_size=(3, 3), stride=(1, 1), padding=(1, 1), bias=False)\n",
      "  (bn7): BatchNorm2d(18, eps=1e-05, momentum=0.1, affine=True, track_running_stats=True)\n",
      "  (gap): AdaptiveAvgPool2d(output_size=1)\n",
      "  (fc): Linear(in_features=18, out_features=10, bias=True)\n",
      "  (drop2d): Dropout2d(p=0.1, inplace=False)\n",
      "  (dropfc): Dropout(p=0.1, inplace=False)\n",
      ")\n",
      "==================================================\n",
      "\n",
      "Optimizer: SGD (lr=0.002, weight_decay=0)\n",
      "Loss: CrossEntropyLoss\n",
      "Epochs: 20\n",
      "Batch Size: 128\n",
      "Training Samples: 60,000\n",
      "Test Samples: 10,000\n",
      "============================================================\n",
      "\n",
      "Starting training...\n"
     ]
    },
    {
     "data": {
      "application/vnd.jupyter.widget-view+json": {
       "model_id": "88faac5a093f48be9a4f718de30fa028",
       "version_major": 2,
       "version_minor": 0
      },
      "text/plain": [
       "  0%|          | 0/469 [00:00<?, ?it/s]"
      ]
     },
     "metadata": {},
     "output_type": "display_data"
    },
    {
     "name": "stdout",
     "output_type": "stream",
     "text": [
      "\n",
      "Training - Epoch 1:\n",
      "  Accuracy: 34450/60000 (57.42%)\n",
      "  Avg Loss: 1.3282\n",
      "Test Results:\n",
      "  Accuracy: 9652/10000 (96.52%)\n",
      "  Avg Loss: 0.2941\n"
     ]
    },
    {
     "data": {
      "application/vnd.jupyter.widget-view+json": {
       "model_id": "c6cb7c0f665e4a3e9f21f06d0b998c03",
       "version_major": 2,
       "version_minor": 0
      },
      "text/plain": [
       "  0%|          | 0/469 [00:00<?, ?it/s]"
      ]
     },
     "metadata": {},
     "output_type": "display_data"
    },
    {
     "name": "stdout",
     "output_type": "stream",
     "text": [
      "\n",
      "Training - Epoch 2:\n",
      "  Accuracy: 50142/60000 (83.57%)\n",
      "  Avg Loss: 0.6444\n",
      "Test Results:\n",
      "  Accuracy: 9769/10000 (97.69%)\n",
      "  Avg Loss: 0.2344\n"
     ]
    },
    {
     "data": {
      "application/vnd.jupyter.widget-view+json": {
       "model_id": "9a51ff8b40c249c0865880cbad168964",
       "version_major": 2,
       "version_minor": 0
      },
      "text/plain": [
       "  0%|          | 0/469 [00:00<?, ?it/s]"
      ]
     },
     "metadata": {},
     "output_type": "display_data"
    },
    {
     "name": "stdout",
     "output_type": "stream",
     "text": [
      "\n",
      "Training - Epoch 3:\n",
      "  Accuracy: 52820/60000 (88.03%)\n",
      "  Avg Loss: 0.5253\n",
      "Test Results:\n",
      "  Accuracy: 9810/10000 (98.10%)\n",
      "  Avg Loss: 0.2179\n"
     ]
    },
    {
     "data": {
      "application/vnd.jupyter.widget-view+json": {
       "model_id": "a5d388c111e9463695e7355c558fecbc",
       "version_major": 2,
       "version_minor": 0
      },
      "text/plain": [
       "  0%|          | 0/469 [00:00<?, ?it/s]"
      ]
     },
     "metadata": {},
     "output_type": "display_data"
    },
    {
     "name": "stdout",
     "output_type": "stream",
     "text": [
      "\n",
      "Training - Epoch 4:\n",
      "  Accuracy: 53874/60000 (89.79%)\n",
      "  Avg Loss: 0.4805\n",
      "Test Results:\n",
      "  Accuracy: 9836/10000 (98.36%)\n",
      "  Avg Loss: 0.2098\n"
     ]
    },
    {
     "data": {
      "application/vnd.jupyter.widget-view+json": {
       "model_id": "59a77c35f03d4c019780114dd6a7b7c4",
       "version_major": 2,
       "version_minor": 0
      },
      "text/plain": [
       "  0%|          | 0/469 [00:00<?, ?it/s]"
      ]
     },
     "metadata": {},
     "output_type": "display_data"
    },
    {
     "name": "stdout",
     "output_type": "stream",
     "text": [
      "\n",
      "Training - Epoch 5:\n",
      "  Accuracy: 54438/60000 (90.73%)\n",
      "  Avg Loss: 0.4546\n",
      "Test Results:\n",
      "  Accuracy: 9848/10000 (98.48%)\n",
      "  Avg Loss: 0.2111\n"
     ]
    },
    {
     "data": {
      "application/vnd.jupyter.widget-view+json": {
       "model_id": "de0918fe94574d0ebc1391e48c6db2da",
       "version_major": 2,
       "version_minor": 0
      },
      "text/plain": [
       "  0%|          | 0/469 [00:00<?, ?it/s]"
      ]
     },
     "metadata": {},
     "output_type": "display_data"
    },
    {
     "name": "stdout",
     "output_type": "stream",
     "text": [
      "\n",
      "Training - Epoch 6:\n",
      "  Accuracy: 54799/60000 (91.33%)\n",
      "  Avg Loss: 0.4364\n",
      "Test Results:\n",
      "  Accuracy: 9857/10000 (98.57%)\n",
      "  Avg Loss: 0.2043\n"
     ]
    },
    {
     "data": {
      "application/vnd.jupyter.widget-view+json": {
       "model_id": "d8c1c252f66b48bfa57aa522220c840f",
       "version_major": 2,
       "version_minor": 0
      },
      "text/plain": [
       "  0%|          | 0/469 [00:00<?, ?it/s]"
      ]
     },
     "metadata": {},
     "output_type": "display_data"
    },
    {
     "name": "stdout",
     "output_type": "stream",
     "text": [
      "\n",
      "Training - Epoch 7:\n",
      "  Accuracy: 55042/60000 (91.74%)\n",
      "  Avg Loss: 0.4244\n",
      "Test Results:\n",
      "  Accuracy: 9857/10000 (98.57%)\n",
      "  Avg Loss: 0.2055\n"
     ]
    },
    {
     "data": {
      "application/vnd.jupyter.widget-view+json": {
       "model_id": "f84302f9b22a48ada94b299082c17332",
       "version_major": 2,
       "version_minor": 0
      },
      "text/plain": [
       "  0%|          | 0/469 [00:00<?, ?it/s]"
      ]
     },
     "metadata": {},
     "output_type": "display_data"
    },
    {
     "name": "stdout",
     "output_type": "stream",
     "text": [
      "\n",
      "Training - Epoch 8:\n",
      "  Accuracy: 55141/60000 (91.90%)\n",
      "  Avg Loss: 0.4175\n",
      "Test Results:\n",
      "  Accuracy: 9864/10000 (98.64%)\n",
      "  Avg Loss: 0.2025\n"
     ]
    },
    {
     "data": {
      "application/vnd.jupyter.widget-view+json": {
       "model_id": "e038ace0674743fdaf546a9e49d0bc0c",
       "version_major": 2,
       "version_minor": 0
      },
      "text/plain": [
       "  0%|          | 0/469 [00:00<?, ?it/s]"
      ]
     },
     "metadata": {},
     "output_type": "display_data"
    },
    {
     "name": "stdout",
     "output_type": "stream",
     "text": [
      "\n",
      "Training - Epoch 9:\n",
      "  Accuracy: 55525/60000 (92.54%)\n",
      "  Avg Loss: 0.4018\n",
      "Test Results:\n",
      "  Accuracy: 9874/10000 (98.74%)\n",
      "  Avg Loss: 0.2025\n"
     ]
    },
    {
     "data": {
      "application/vnd.jupyter.widget-view+json": {
       "model_id": "b14ef333ec184b2a92f8a69440be60e0",
       "version_major": 2,
       "version_minor": 0
      },
      "text/plain": [
       "  0%|          | 0/469 [00:00<?, ?it/s]"
      ]
     },
     "metadata": {},
     "output_type": "display_data"
    },
    {
     "name": "stdout",
     "output_type": "stream",
     "text": [
      "\n",
      "Training - Epoch 10:\n",
      "  Accuracy: 55624/60000 (92.71%)\n",
      "  Avg Loss: 0.3969\n",
      "Test Results:\n",
      "  Accuracy: 9881/10000 (98.81%)\n",
      "  Avg Loss: 0.2001\n"
     ]
    },
    {
     "data": {
      "application/vnd.jupyter.widget-view+json": {
       "model_id": "dd561910601f48ddb8a0a866db36d40f",
       "version_major": 2,
       "version_minor": 0
      },
      "text/plain": [
       "  0%|          | 0/469 [00:00<?, ?it/s]"
      ]
     },
     "metadata": {},
     "output_type": "display_data"
    },
    {
     "name": "stdout",
     "output_type": "stream",
     "text": [
      "\n",
      "Training - Epoch 11:\n",
      "  Accuracy: 55818/60000 (93.03%)\n",
      "  Avg Loss: 0.3875\n",
      "Test Results:\n",
      "  Accuracy: 9872/10000 (98.72%)\n",
      "  Avg Loss: 0.1992\n"
     ]
    },
    {
     "data": {
      "application/vnd.jupyter.widget-view+json": {
       "model_id": "2c0b50e3b70347fcbb0c90873e3a8b9d",
       "version_major": 2,
       "version_minor": 0
      },
      "text/plain": [
       "  0%|          | 0/469 [00:00<?, ?it/s]"
      ]
     },
     "metadata": {},
     "output_type": "display_data"
    },
    {
     "name": "stdout",
     "output_type": "stream",
     "text": [
      "\n",
      "Training - Epoch 12:\n",
      "  Accuracy: 55825/60000 (93.04%)\n",
      "  Avg Loss: 0.3878\n",
      "Test Results:\n",
      "  Accuracy: 9884/10000 (98.84%)\n",
      "  Avg Loss: 0.1962\n"
     ]
    },
    {
     "data": {
      "application/vnd.jupyter.widget-view+json": {
       "model_id": "5b45c635fe0b4349ae681f97567d2f9b",
       "version_major": 2,
       "version_minor": 0
      },
      "text/plain": [
       "  0%|          | 0/469 [00:00<?, ?it/s]"
      ]
     },
     "metadata": {},
     "output_type": "display_data"
    },
    {
     "name": "stdout",
     "output_type": "stream",
     "text": [
      "\n",
      "Training - Epoch 13:\n",
      "  Accuracy: 56067/60000 (93.44%)\n",
      "  Avg Loss: 0.3742\n",
      "Test Results:\n",
      "  Accuracy: 9874/10000 (98.74%)\n",
      "  Avg Loss: 0.1993\n"
     ]
    },
    {
     "data": {
      "application/vnd.jupyter.widget-view+json": {
       "model_id": "c6864d04fa0d44f6b1d06628f3c5cebb",
       "version_major": 2,
       "version_minor": 0
      },
      "text/plain": [
       "  0%|          | 0/469 [00:00<?, ?it/s]"
      ]
     },
     "metadata": {},
     "output_type": "display_data"
    },
    {
     "name": "stdout",
     "output_type": "stream",
     "text": [
      "\n",
      "Training - Epoch 14:\n",
      "  Accuracy: 56140/60000 (93.57%)\n",
      "  Avg Loss: 0.3727\n",
      "Test Results:\n",
      "  Accuracy: 9883/10000 (98.83%)\n",
      "  Avg Loss: 0.1939\n"
     ]
    },
    {
     "data": {
      "application/vnd.jupyter.widget-view+json": {
       "model_id": "5e10829861b249af887beb59a6abd9ad",
       "version_major": 2,
       "version_minor": 0
      },
      "text/plain": [
       "  0%|          | 0/469 [00:00<?, ?it/s]"
      ]
     },
     "metadata": {},
     "output_type": "display_data"
    },
    {
     "name": "stdout",
     "output_type": "stream",
     "text": [
      "\n",
      "Training - Epoch 15:\n",
      "  Accuracy: 56128/60000 (93.55%)\n",
      "  Avg Loss: 0.3705\n",
      "Test Results:\n",
      "  Accuracy: 9880/10000 (98.80%)\n",
      "  Avg Loss: 0.1923\n"
     ]
    },
    {
     "data": {
      "application/vnd.jupyter.widget-view+json": {
       "model_id": "7b0767a6ab934931a516fa4237f6c5c8",
       "version_major": 2,
       "version_minor": 0
      },
      "text/plain": [
       "  0%|          | 0/469 [00:00<?, ?it/s]"
      ]
     },
     "metadata": {},
     "output_type": "display_data"
    },
    {
     "name": "stdout",
     "output_type": "stream",
     "text": [
      "\n",
      "Training - Epoch 16:\n",
      "  Accuracy: 56242/60000 (93.74%)\n",
      "  Avg Loss: 0.3661\n",
      "Test Results:\n",
      "  Accuracy: 9897/10000 (98.97%)\n",
      "  Avg Loss: 0.1911\n"
     ]
    },
    {
     "data": {
      "application/vnd.jupyter.widget-view+json": {
       "model_id": "e0d6c709590b4bf683c5d6bafe7202a8",
       "version_major": 2,
       "version_minor": 0
      },
      "text/plain": [
       "  0%|          | 0/469 [00:00<?, ?it/s]"
      ]
     },
     "metadata": {},
     "output_type": "display_data"
    },
    {
     "name": "stdout",
     "output_type": "stream",
     "text": [
      "\n",
      "Training - Epoch 17:\n",
      "  Accuracy: 56354/60000 (93.92%)\n",
      "  Avg Loss: 0.3596\n",
      "Test Results:\n",
      "  Accuracy: 9897/10000 (98.97%)\n",
      "  Avg Loss: 0.1899\n"
     ]
    },
    {
     "data": {
      "application/vnd.jupyter.widget-view+json": {
       "model_id": "2c0351f041e14d88af2e6a202d4273e4",
       "version_major": 2,
       "version_minor": 0
      },
      "text/plain": [
       "  0%|          | 0/469 [00:00<?, ?it/s]"
      ]
     },
     "metadata": {},
     "output_type": "display_data"
    },
    {
     "name": "stdout",
     "output_type": "stream",
     "text": [
      "\n",
      "Training - Epoch 18:\n",
      "  Accuracy: 56434/60000 (94.06%)\n",
      "  Avg Loss: 0.3545\n",
      "Test Results:\n",
      "  Accuracy: 9902/10000 (99.02%)\n",
      "  Avg Loss: 0.1904\n"
     ]
    },
    {
     "data": {
      "application/vnd.jupyter.widget-view+json": {
       "model_id": "cb3f7d43290f46f995c48cc4670b765e",
       "version_major": 2,
       "version_minor": 0
      },
      "text/plain": [
       "  0%|          | 0/469 [00:00<?, ?it/s]"
      ]
     },
     "metadata": {},
     "output_type": "display_data"
    },
    {
     "name": "stdout",
     "output_type": "stream",
     "text": [
      "\n",
      "Training - Epoch 19:\n",
      "  Accuracy: 56548/60000 (94.25%)\n",
      "  Avg Loss: 0.3509\n",
      "Test Results:\n",
      "  Accuracy: 9901/10000 (99.01%)\n",
      "  Avg Loss: 0.1908\n"
     ]
    },
    {
     "data": {
      "application/vnd.jupyter.widget-view+json": {
       "model_id": "5a171bbcdd874d508a61248f4979027d",
       "version_major": 2,
       "version_minor": 0
      },
      "text/plain": [
       "  0%|          | 0/469 [00:00<?, ?it/s]"
      ]
     },
     "metadata": {},
     "output_type": "display_data"
    },
    {
     "name": "stdout",
     "output_type": "stream",
     "text": [
      "\n",
      "Training - Epoch 20:\n",
      "  Accuracy: 56570/60000 (94.28%)\n",
      "  Avg Loss: 0.3511\n",
      "Test Results:\n",
      "  Accuracy: 9904/10000 (99.04%)\n",
      "  Avg Loss: 0.1901\n"
     ]
    }
   ],
   "source": [
    "model = Net().to(device)  # Using improved model\n",
    "total_params = model.count_parameters()\n",
    "print(f\"\\nModel Parameters: {total_params:,}\")\n",
    "print(f\"Model Architecture:\")\n",
    "print(model)\n",
    "print(\"=\"*50 + \"\\n\")\n",
    "\n",
    "# Use AdamW for better regularization with small models\n",
    "optimizer = optim.SGD(model.parameters(), lr=0.001, weight_decay=0)\n",
    "print(f\"Optimizer: SGD (lr=0.002, weight_decay=0)\")\n",
    "\n",
    "\n",
    "criterion = nn.CrossEntropyLoss(label_smoothing=0.02)\n",
    "num_epochs = 20\n",
    "scheduler = OneCycleLR(\n",
    "    optimizer,\n",
    "    max_lr=0.05,                        # try 0.008–0.02; 0.01 is a good start\n",
    "    epochs=num_epochs,\n",
    "    steps_per_epoch=len(train_loader),\n",
    "    pct_start=0.2,                      # warmup portion\n",
    "    div_factor=10, final_div_factor=100\n",
    "    ,anneal_strategy=\"cos\"\n",
    ")\n",
    "\n",
    "\n",
    "\n",
    "print(f\"Loss: CrossEntropyLoss\")\n",
    "print(f\"Epochs: {num_epochs}\")\n",
    "print(f\"Batch Size: {batch_size}\")\n",
    "print(f\"Training Samples: {len(train_data):,}\")\n",
    "print(f\"Test Samples: {len(test_data):,}\")\n",
    "print(\"=\"*60 + \"\\n\")\n",
    "\n",
    "# Training loop\n",
    "print(\"Starting training...\")\n",
    "best_test_acc = 0\n",
    "\n",
    "for epoch in range(1, num_epochs+1):\n",
    "    # Train\n",
    "    train_accuracy = train(model, device, train_loader, optimizer, criterion, epoch, scheduler)\n",
    "\n",
    "    # Test\n",
    "    test_accuracy = test(model, device, test_loader, criterion)"
   ]
  },
  {
   "cell_type": "code",
   "execution_count": null,
   "id": "fb05c35b",
   "metadata": {},
   "outputs": [],
   "source": [
    "# Plot results\n",
    "fig, axs = plt.subplots(2, 2, figsize=(15, 10))\n",
    "\n",
    "# Training Loss\n",
    "axs[0, 0].plot(train_losses, 'b-', linewidth=2)\n",
    "#axs[0, 0].set_title(f\"Training Loss ({model_name})\", fontsize=12, fontweight='bold')\n",
    "axs[0, 0].set_xlabel(\"Epoch\")\n",
    "axs[0, 0].set_ylabel(\"Loss\")\n",
    "axs[0, 0].grid(True, alpha=0.3)\n",
    "\n",
    "# Training Accuracy\n",
    "axs[1, 0].plot(train_acc, 'g-', linewidth=2)\n",
    "#axs[1, 0].set_title(f\"Training Accuracy ({model_name})\", fontsize=12, fontweight='bold')\n",
    "axs[1, 0].set_xlabel(\"Epoch\")\n",
    "axs[1, 0].set_ylabel(\"Accuracy (%)\")\n",
    "axs[1, 0].grid(True, alpha=0.3)\n",
    "axs[1, 0].axhline(y=99.4, color='r', linestyle='--', alpha=0.5, label='Target: 99.4%')\n",
    "axs[1, 0].legend()\n",
    "\n",
    "# Test Loss\n",
    "axs[0, 1].plot(test_losses, 'r-', linewidth=2)\n",
    "#axs[0, 1].set_title(f\"Test Loss ({model_name})\", fontsize=12, fontweight='bold')\n",
    "axs[0, 1].set_xlabel(\"Epoch\")\n",
    "axs[0, 1].set_ylabel(\"Loss\")\n",
    "axs[0, 1].grid(True, alpha=0.3)\n",
    "\n",
    "# Test Accuracy\n",
    "axs[1, 1].plot(test_acc, 'orange', linewidth=2)\n",
    "#axs[1, 1].set_title(f\"Test Accuracy ({model_name})\", fontsize=12, fontweight='bold')\n",
    "axs[1, 1].set_xlabel(\"Epoch\")\n",
    "axs[1, 1].set_ylabel(\"Accuracy (%)\")\n",
    "axs[1, 1].grid(True, alpha=0.3)\n",
    "\n",
    "#plt.suptitle(f\"Training Results - {model_name} ({total_params:,} parameters)\", fontsize=14, fontweight='bold')\n",
    "plt.tight_layout()\n",
    "plt.show()\n",
    "\n",
    "# Final summary\n",
    "print(f\"\\n{'='*60}\")\n",
    "#print(f\"FINAL SUMMARY - {model_name}\")\n",
    "print(f\"{'='*60}\")\n",
    "print(f\"Model Parameters: {total_params:,} (< 25,000 ✓)\")\n",
    "print(f\"Final Training Accuracy: {train_acc[-1]:.2f}%\")\n",
    "print(f\"Final Test Accuracy: {test_acc[-1]:.2f}%\")\n",
    "print(f\"Best Test Accuracy: {best_test_acc:.2f}%\")\n",
    "print(f\"First Epoch Training Accuracy: {train_acc[0]:.2f}%\")\n",
    "\n",
    "if train_acc[0] >= 99.4:\n",
    "    print(f\"\\n✓ SUCCESS: Achieved {train_acc[0]:.2f}% training accuracy in first epoch!\")\n",
    "else:\n",
    "    print(f\"\\n⚠ First epoch accuracy was {train_acc[0]:.2f}% (target was 99.4%)\")\n",
    "    print(\"  Tips to improve:\")\n",
    "    print(\"  - Try the LightweightNet or UltraLightNet models\")\n",
    "    print(\"  - Increase learning rate slightly\")\n",
    "    print(\"  - Use smaller batch size for more updates\")\n",
    "\n",
    "print(f\"{'='*60}\")"
   ]
  }
 ],
 "metadata": {
  "kernelspec": {
   "display_name": "base",
   "language": "python",
   "name": "python3"
  },
  "language_info": {
   "codemirror_mode": {
    "name": "ipython",
    "version": 3
   },
   "file_extension": ".py",
   "mimetype": "text/x-python",
   "name": "python",
   "nbconvert_exporter": "python",
   "pygments_lexer": "ipython3",
   "version": "3.12.7"
  }
 },
 "nbformat": 4,
 "nbformat_minor": 5
}
