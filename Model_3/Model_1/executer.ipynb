{
 "cells": [
  {
   "cell_type": "code",
   "execution_count": null,
   "id": "a3ef9479",
   "metadata": {},
   "outputs": [],
   "source": [
    "import torch\n",
    "import torch.nn as nn\n",
    "import torch.optim as optim\n",
    "from torchvision import datasets, transforms\n",
    "import matplotlib.pyplot as plt\n",
    "from torch.optim.lr_scheduler import OneCycleLR\n",
    "from model import Net\n",
    "from training import train,test, train_losses, train_acc, test_losses, test_acc"
   ]
  },
  {
   "cell_type": "code",
   "execution_count": 2,
   "id": "e32ea369",
   "metadata": {},
   "outputs": [
    {
     "name": "stdout",
     "output_type": "stream",
     "text": [
      "MPS Available\n"
     ]
    }
   ],
   "source": [
    "if torch.cuda.is_available():\n",
    "    device = torch.device(\"cuda\")\n",
    "    print(\"CUDA Available\")\n",
    "elif torch.backends.mps.is_available():\n",
    "    device = torch.device(\"mps\")\n",
    "    print(\"MPS Available\")\n",
    "else:\n",
    "    device = torch.device(\"cpu\")\n",
    "    print(\"Using CPU\")"
   ]
  },
  {
   "cell_type": "code",
   "execution_count": 3,
   "id": "9798fdae",
   "metadata": {},
   "outputs": [],
   "source": [
    "train_transforms = transforms.Compose([\n",
    "                        transforms.RandomAffine(degrees=7, translate=(0.08, 0.08)),\n",
    "                        transforms.ToTensor(),\n",
    "                        transforms.Normalize((0.1307,), (0.3081,))\n",
    "                        # ,transforms.RandomErasing(p=0.05, scale=(0.02, 0.05), ratio=(0.3, 3.3))  # tiny, optional\n",
    "                        ])\n",
    "test_transforms = transforms.Compose([\n",
    "                        transforms.ToTensor(),\n",
    "                        transforms.Normalize((0.1307,), (0.3081,))\n",
    "                    ])"
   ]
  },
  {
   "cell_type": "code",
   "execution_count": 4,
   "id": "a5e8e05f",
   "metadata": {},
   "outputs": [],
   "source": [
    "train_data = datasets.MNIST('../data', train=True, download=True, transform=train_transforms)\n",
    "test_data = datasets.MNIST('../data', train=False, download=True, transform=test_transforms)"
   ]
  },
  {
   "cell_type": "code",
   "execution_count": 5,
   "id": "5a4c2ba1",
   "metadata": {},
   "outputs": [],
   "source": [
    "batch_size = 128\n",
    "kwargs = {'batch_size': batch_size, 'shuffle': True, 'num_workers': 2, 'pin_memory': True}\n",
    "\n",
    "train_loader = torch.utils.data.DataLoader(train_data, **kwargs)\n",
    "test_loader = torch.utils.data.DataLoader(test_data, batch_size=1000, shuffle=False)"
   ]
  },
  {
   "cell_type": "code",
   "execution_count": 6,
   "id": "83b46915",
   "metadata": {},
   "outputs": [
    {
     "name": "stderr",
     "output_type": "stream",
     "text": [
      "/opt/anaconda3/lib/python3.12/site-packages/torch/utils/data/dataloader.py:684: UserWarning: 'pin_memory' argument is set as true but not supported on MPS now, then device pinned memory won't be used.\n",
      "  warnings.warn(warn_msg)\n"
     ]
    },
    {
     "data": {
      "image/png": "[encoded data removed]",
      "text/plain": [
       "<Figure size 1200x800 with 12 Axes>"
      ]
     },
     "metadata": {},
     "output_type": "display_data"
    }
   ],
   "source": [
    "def visualize_batch():\n",
    "    batch_data, batch_label = next(iter(train_loader))\n",
    "    fig = plt.figure(figsize=(12, 8))\n",
    "    for i in range(12):\n",
    "        plt.subplot(3, 4, i+1)\n",
    "        plt.tight_layout()\n",
    "        plt.imshow(batch_data[i].squeeze(0), cmap='gray')\n",
    "        plt.title(batch_label[i].item())\n",
    "        plt.xticks([])\n",
    "        plt.yticks([])\n",
    "    plt.show()\n",
    "\n",
    "visualize_batch()"
   ]
  },
  {
   "cell_type": "code",
   "execution_count": null,
   "id": "5b066d7c",
   "metadata": {},
   "outputs": [
    {
     "name": "stdout",
     "output_type": "stream",
     "text": [
      "\n",
      "Model Parameters: 7,784\n",
      "Model Architecture:\n",
      "Net(\n",
      "  (conv1): Conv2d(1, 7, kernel_size=(3, 3), stride=(1, 1), bias=False)\n",
      "  (bn1): BatchNorm2d(7, eps=1e-05, momentum=0.1, affine=True, track_running_stats=True)\n",
      "  (conv2): Conv2d(7, 7, kernel_size=(3, 3), stride=(1, 1), bias=False)\n",
      "  (bn2): BatchNorm2d(7, eps=1e-05, momentum=0.1, affine=True, track_running_stats=True)\n",
      "  (conv3): Conv2d(7, 10, kernel_size=(3, 3), stride=(1, 1), bias=False)\n",
      "  (bn3): BatchNorm2d(10, eps=1e-05, momentum=0.1, affine=True, track_running_stats=True)\n",
      "  (pool1): MaxPool2d(kernel_size=2, stride=2, padding=0, dilation=1, ceil_mode=False)\n",
      "  (conv4): Conv2d(10, 10, kernel_size=(3, 3), stride=(1, 1), bias=False)\n",
      "  (bn4): BatchNorm2d(10, eps=1e-05, momentum=0.1, affine=True, track_running_stats=True)\n",
      "  (conv5): Conv2d(10, 12, kernel_size=(3, 3), stride=(1, 1), bias=False)\n",
      "  (bn5): BatchNorm2d(12, eps=1e-05, momentum=0.1, affine=True, track_running_stats=True)\n",
      "  (pool2): MaxPool2d(kernel_size=2, stride=2, padding=0, dilation=1, ceil_mode=False)\n",
      "  (conv6): Conv2d(12, 16, kernel_size=(3, 3), stride=(1, 1), padding=(1, 1), bias=False)\n",
      "  (bn6): BatchNorm2d(16, eps=1e-05, momentum=0.1, affine=True, track_running_stats=True)\n",
      "  (conv7): Conv2d(16, 18, kernel_size=(3, 3), stride=(1, 1), padding=(1, 1), bias=False)\n",
      "  (bn7): BatchNorm2d(18, eps=1e-05, momentum=0.1, affine=True, track_running_stats=True)\n",
      "  (gap): AdaptiveAvgPool2d(output_size=1)\n",
      "  (fc): Linear(in_features=18, out_features=10, bias=True)\n",
      ")\n",
      "==================================================\n",
      "\n",
      "Optimizer: SGD (lr=0.002, weight_decay=0)\n",
      "Loss: CrossEntropyLoss\n",
      "Epochs: 20\n",
      "Batch Size: 128\n",
      "Training Samples: 60,000\n",
      "Test Samples: 10,000\n",
      "============================================================\n",
      "\n",
      "Starting training...\n"
     ]
    },
    {
     "data": {
      "application/vnd.jupyter.widget-view+json": {
       "model_id": "0bff16d4f77140e29c46c882d841221a",
       "version_major": 2,
       "version_minor": 0
      },
      "text/plain": [
       "  0%|          | 0/469 [00:00<?, ?it/s]"
      ]
     },
     "metadata": {},
     "output_type": "display_data"
    },
    {
     "name": "stdout",
     "output_type": "stream",
     "text": [
      "\n",
      "Training - Epoch 1:\n",
      "  Accuracy: 48825/60000 (81.38%)\n",
      "  Avg Loss: 0.7402\n",
      "Test Results:\n",
      "  Accuracy: 9754/10000 (97.54%)\n",
      "  Avg Loss: 0.2379\n"
     ]
    },
    {
     "data": {
      "application/vnd.jupyter.widget-view+json": {
       "model_id": "79d9922058ff491fbf8b06babd3491a2",
       "version_major": 2,
       "version_minor": 0
      },
      "text/plain": [
       "  0%|          | 0/469 [00:00<?, ?it/s]"
      ]
     },
     "metadata": {},
     "output_type": "display_data"
    },
    {
     "name": "stdout",
     "output_type": "stream",
     "text": [
      "\n",
      "Training - Epoch 2:\n",
      "  Accuracy: 58217/60000 (97.03%)\n",
      "  Avg Loss: 0.2431\n",
      "Test Results:\n",
      "  Accuracy: 9851/10000 (98.51%)\n",
      "  Avg Loss: 0.1965\n"
     ]
    },
    {
     "data": {
      "application/vnd.jupyter.widget-view+json": {
       "model_id": "346e9799187a4dd5835e2c324b649f29",
       "version_major": 2,
       "version_minor": 0
      },
      "text/plain": [
       "  0%|          | 0/469 [00:00<?, ?it/s]"
      ]
     },
     "metadata": {},
     "output_type": "display_data"
    },
    {
     "name": "stdout",
     "output_type": "stream",
     "text": [
      "\n",
      "Training - Epoch 3:\n",
      "  Accuracy: 58613/60000 (97.69%)\n",
      "  Avg Loss: 0.2183\n",
      "Test Results:\n",
      "  Accuracy: 9876/10000 (98.76%)\n",
      "  Avg Loss: 0.1879\n"
     ]
    },
    {
     "data": {
      "application/vnd.jupyter.widget-view+json": {
       "model_id": "5c594e81b3f04090b876cad46f4a4f46",
       "version_major": 2,
       "version_minor": 0
      },
      "text/plain": [
       "  0%|          | 0/469 [00:00<?, ?it/s]"
      ]
     },
     "metadata": {},
     "output_type": "display_data"
    },
    {
     "name": "stdout",
     "output_type": "stream",
     "text": [
      "\n",
      "Training - Epoch 4:\n",
      "  Accuracy: 58879/60000 (98.13%)\n",
      "  Avg Loss: 0.2033\n",
      "Test Results:\n",
      "  Accuracy: 9810/10000 (98.10%)\n",
      "  Avg Loss: 0.2035\n"
     ]
    },
    {
     "data": {
      "application/vnd.jupyter.widget-view+json": {
       "model_id": "e14fef997dc442088dc6dbf45ef57a61",
       "version_major": 2,
       "version_minor": 0
      },
      "text/plain": [
       "  0%|          | 0/469 [00:00<?, ?it/s]"
      ]
     },
     "metadata": {},
     "output_type": "display_data"
    },
    {
     "name": "stdout",
     "output_type": "stream",
     "text": [
      "\n",
      "Training - Epoch 5:\n",
      "  Accuracy: 59010/60000 (98.35%)\n",
      "  Avg Loss: 0.1954\n",
      "Test Results:\n",
      "  Accuracy: 9912/10000 (99.12%)\n",
      "  Avg Loss: 0.1686\n"
     ]
    },
    {
     "data": {
      "application/vnd.jupyter.widget-view+json": {
       "model_id": "332ba1f4c4bf43f48f38a8d3145f9d96",
       "version_major": 2,
       "version_minor": 0
      },
      "text/plain": [
       "  0%|          | 0/469 [00:00<?, ?it/s]"
      ]
     },
     "metadata": {},
     "output_type": "display_data"
    },
    {
     "name": "stdout",
     "output_type": "stream",
     "text": [
      "\n",
      "Training - Epoch 6:\n",
      "  Accuracy: 59069/60000 (98.45%)\n",
      "  Avg Loss: 0.1901\n",
      "Test Results:\n",
      "  Accuracy: 9866/10000 (98.66%)\n",
      "  Avg Loss: 0.1828\n"
     ]
    },
    {
     "data": {
      "application/vnd.jupyter.widget-view+json": {
       "model_id": "8a91feec6bc341f986ca247229cd4602",
       "version_major": 2,
       "version_minor": 0
      },
      "text/plain": [
       "  0%|          | 0/469 [00:00<?, ?it/s]"
      ]
     },
     "metadata": {},
     "output_type": "display_data"
    },
    {
     "name": "stdout",
     "output_type": "stream",
     "text": [
      "\n",
      "Training - Epoch 7:\n",
      "  Accuracy: 59045/60000 (98.41%)\n",
      "  Avg Loss: 0.1879\n",
      "Test Results:\n",
      "  Accuracy: 9916/10000 (99.16%)\n",
      "  Avg Loss: 0.1663\n"
     ]
    },
    {
     "data": {
      "application/vnd.jupyter.widget-view+json": {
       "model_id": "61beae298a2747a19ac735d5a569d0f9",
       "version_major": 2,
       "version_minor": 0
      },
      "text/plain": [
       "  0%|          | 0/469 [00:00<?, ?it/s]"
      ]
     },
     "metadata": {},
     "output_type": "display_data"
    },
    {
     "name": "stdout",
     "output_type": "stream",
     "text": [
      "\n",
      "Training - Epoch 8:\n",
      "  Accuracy: 59175/60000 (98.62%)\n",
      "  Avg Loss: 0.1828\n",
      "Test Results:\n",
      "  Accuracy: 9919/10000 (99.19%)\n",
      "  Avg Loss: 0.1664\n"
     ]
    },
    {
     "data": {
      "application/vnd.jupyter.widget-view+json": {
       "model_id": "b0d9a7510f774dfd9876c531721880af",
       "version_major": 2,
       "version_minor": 0
      },
      "text/plain": [
       "  0%|          | 0/469 [00:00<?, ?it/s]"
      ]
     },
     "metadata": {},
     "output_type": "display_data"
    },
    {
     "name": "stdout",
     "output_type": "stream",
     "text": [
      "\n",
      "Training - Epoch 9:\n",
      "  Accuracy: 59213/60000 (98.69%)\n",
      "  Avg Loss: 0.1803\n",
      "Test Results:\n",
      "  Accuracy: 9920/10000 (99.20%)\n",
      "  Avg Loss: 0.1639\n"
     ]
    },
    {
     "data": {
      "application/vnd.jupyter.widget-view+json": {
       "model_id": "f184491371984cc5aa67cf55102dde57",
       "version_major": 2,
       "version_minor": 0
      },
      "text/plain": [
       "  0%|          | 0/469 [00:00<?, ?it/s]"
      ]
     },
     "metadata": {},
     "output_type": "display_data"
    },
    {
     "name": "stdout",
     "output_type": "stream",
     "text": [
      "\n",
      "Training - Epoch 10:\n",
      "  Accuracy: 59242/60000 (98.74%)\n",
      "  Avg Loss: 0.1780\n",
      "Test Results:\n",
      "  Accuracy: 9898/10000 (98.98%)\n",
      "  Avg Loss: 0.1680\n"
     ]
    },
    {
     "data": {
      "application/vnd.jupyter.widget-view+json": {
       "model_id": "09c7cdf0052e457a928756f2973712a0",
       "version_major": 2,
       "version_minor": 0
      },
      "text/plain": [
       "  0%|          | 0/469 [00:00<?, ?it/s]"
      ]
     },
     "metadata": {},
     "output_type": "display_data"
    },
    {
     "name": "stdout",
     "output_type": "stream",
     "text": [
      "\n",
      "Training - Epoch 11:\n",
      "  Accuracy: 59320/60000 (98.87%)\n",
      "  Avg Loss: 0.1748\n",
      "Test Results:\n",
      "  Accuracy: 9930/10000 (99.30%)\n",
      "  Avg Loss: 0.1584\n"
     ]
    },
    {
     "data": {
      "application/vnd.jupyter.widget-view+json": {
       "model_id": "e2c6ea3ba1d546d7bf858aeb97679e06",
       "version_major": 2,
       "version_minor": 0
      },
      "text/plain": [
       "  0%|          | 0/469 [00:00<?, ?it/s]"
      ]
     },
     "metadata": {},
     "output_type": "display_data"
    },
    {
     "name": "stdout",
     "output_type": "stream",
     "text": [
      "\n",
      "Training - Epoch 12:\n",
      "  Accuracy: 59309/60000 (98.85%)\n",
      "  Avg Loss: 0.1737\n",
      "Test Results:\n",
      "  Accuracy: 9923/10000 (99.23%)\n",
      "  Avg Loss: 0.1589\n"
     ]
    },
    {
     "data": {
      "application/vnd.jupyter.widget-view+json": {
       "model_id": "981c8327b2f540829a122a9f3af30634",
       "version_major": 2,
       "version_minor": 0
      },
      "text/plain": [
       "  0%|          | 0/469 [00:00<?, ?it/s]"
      ]
     },
     "metadata": {},
     "output_type": "display_data"
    },
    {
     "name": "stdout",
     "output_type": "stream",
     "text": [
      "\n",
      "Training - Epoch 13:\n",
      "  Accuracy: 59328/60000 (98.88%)\n",
      "  Avg Loss: 0.1719\n",
      "Test Results:\n",
      "  Accuracy: 9923/10000 (99.23%)\n",
      "  Avg Loss: 0.1581\n"
     ]
    },
    {
     "data": {
      "application/vnd.jupyter.widget-view+json": {
       "model_id": "0acc67f2bf0a4097b62e9068117a79f5",
       "version_major": 2,
       "version_minor": 0
      },
      "text/plain": [
       "  0%|          | 0/469 [00:00<?, ?it/s]"
      ]
     },
     "metadata": {},
     "output_type": "display_data"
    },
    {
     "name": "stdout",
     "output_type": "stream",
     "text": [
      "\n",
      "Training - Epoch 14:\n",
      "  Accuracy: 59373/60000 (98.95%)\n",
      "  Avg Loss: 0.1712\n",
      "Test Results:\n",
      "  Accuracy: 9938/10000 (99.38%)\n",
      "  Avg Loss: 0.1553\n"
     ]
    },
    {
     "data": {
      "application/vnd.jupyter.widget-view+json": {
       "model_id": "8241e42a0f96418e882913f2f7066313",
       "version_major": 2,
       "version_minor": 0
      },
      "text/plain": [
       "  0%|          | 0/469 [00:00<?, ?it/s]"
      ]
     },
     "metadata": {},
     "output_type": "display_data"
    },
    {
     "name": "stdout",
     "output_type": "stream",
     "text": [
      "\n",
      "Training - Epoch 15:\n",
      "  Accuracy: 59412/60000 (99.02%)\n",
      "  Avg Loss: 0.1677\n",
      "Test Results:\n",
      "  Accuracy: 9941/10000 (99.41%)\n",
      "  Avg Loss: 0.1538\n"
     ]
    },
    {
     "data": {
      "application/vnd.jupyter.widget-view+json": {
       "model_id": "f1484cce87284b94a5cd1158b0f14c28",
       "version_major": 2,
       "version_minor": 0
      },
      "text/plain": [
       "  0%|          | 0/469 [00:00<?, ?it/s]"
      ]
     },
     "metadata": {},
     "output_type": "display_data"
    },
    {
     "name": "stdout",
     "output_type": "stream",
     "text": [
      "\n",
      "Training - Epoch 16:\n",
      "  Accuracy: 59442/60000 (99.07%)\n",
      "  Avg Loss: 0.1665\n"
     ]
    }
   ],
   "source": [
    "model = Net().to(device)  # Using improved model\n",
    "total_params = model.count_parameters()\n",
    "print(f\"\\nModel Parameters: {total_params:,}\")\n",
    "print(f\"Model Architecture:\")\n",
    "print(model)\n",
    "print(\"=\"*50 + \"\\n\")\n",
    "\n",
    "# Use AdamW for better regularization with small models\n",
    "optimizer = optim.SGD(model.parameters(), lr=0.001, weight_decay=0)\n",
    "print(f\"Optimizer: SGD (lr=0.001, weight_decay=0)\")\n",
    "\n",
    "\n",
    "criterion = nn.CrossEntropyLoss(label_smoothing=0.02)\n",
    "num_epochs = 20\n",
    "# scheduler = OneCycleLR(\n",
    "#     optimizer,\n",
    "#     max_lr=0.05,                        # try 0.008–0.02; 0.01 is a good start\n",
    "#     epochs=num_epochs,\n",
    "#     steps_per_epoch=len(train_loader),\n",
    "#     pct_start=0.2,                      # warmup portion\n",
    "#     div_factor=10, final_div_factor=100\n",
    "#     ,anneal_strategy=\"cos\"\n",
    "# )\n",
    "\n",
    "\n",
    "\n",
    "print(f\"Loss: CrossEntropyLoss\")\n",
    "print(f\"Epochs: {num_epochs}\")\n",
    "print(f\"Batch Size: {batch_size}\")\n",
    "print(f\"Training Samples: {len(train_data):,}\")\n",
    "print(f\"Test Samples: {len(test_data):,}\")\n",
    "print(\"=\"*60 + \"\\n\")\n",
    "\n",
    "# Training loop\n",
    "print(\"Starting training...\")\n",
    "best_test_acc = 0\n",
    "\n",
    "for epoch in range(1, num_epochs+1):\n",
    "    # Train\n",
    "    train_accuracy = train(model, device, train_loader, optimizer, criterion, epoch)\n",
    "\n",
    "    # Test\n",
    "    test_accuracy = test(model, device, test_loader, criterion)"
   ]
  },
  {
   "cell_type": "code",
   "execution_count": null,
   "id": "fb05c35b",
   "metadata": {},
   "outputs": [],
   "source": [
    "# Plot results\n",
    "fig, axs = plt.subplots(2, 2, figsize=(15, 10))\n",
    "\n",
    "# Training Loss\n",
    "axs[0, 0].plot(train_losses, 'b-', linewidth=2)\n",
    "#axs[0, 0].set_title(f\"Training Loss ({model_name})\", fontsize=12, fontweight='bold')\n",
    "axs[0, 0].set_xlabel(\"Epoch\")\n",
    "axs[0, 0].set_ylabel(\"Loss\")\n",
    "axs[0, 0].grid(True, alpha=0.3)\n",
    "\n",
    "# Training Accuracy\n",
    "axs[1, 0].plot(train_acc, 'g-', linewidth=2)\n",
    "#axs[1, 0].set_title(f\"Training Accuracy ({model_name})\", fontsize=12, fontweight='bold')\n",
    "axs[1, 0].set_xlabel(\"Epoch\")\n",
    "axs[1, 0].set_ylabel(\"Accuracy (%)\")\n",
    "axs[1, 0].grid(True, alpha=0.3)\n",
    "axs[1, 0].axhline(y=99.4, color='r', linestyle='--', alpha=0.5, label='Target: 99.4%')\n",
    "axs[1, 0].legend()\n",
    "\n",
    "# Test Loss\n",
    "axs[0, 1].plot(test_losses, 'r-', linewidth=2)\n",
    "#axs[0, 1].set_title(f\"Test Loss ({model_name})\", fontsize=12, fontweight='bold')\n",
    "axs[0, 1].set_xlabel(\"Epoch\")\n",
    "axs[0, 1].set_ylabel(\"Loss\")\n",
    "axs[0, 1].grid(True, alpha=0.3)\n",
    "\n",
    "# Test Accuracy\n",
    "axs[1, 1].plot(test_acc, 'orange', linewidth=2)\n",
    "#axs[1, 1].set_title(f\"Test Accuracy ({model_name})\", fontsize=12, fontweight='bold')\n",
    "axs[1, 1].set_xlabel(\"Epoch\")\n",
    "axs[1, 1].set_ylabel(\"Accuracy (%)\")\n",
    "axs[1, 1].grid(True, alpha=0.3)\n",
    "\n",
    "#plt.suptitle(f\"Training Results - {model_name} ({total_params:,} parameters)\", fontsize=14, fontweight='bold')\n",
    "plt.tight_layout()\n",
    "plt.show()\n",
    "\n",
    "# Final summary\n",
    "print(f\"\\n{'='*60}\")\n",
    "#print(f\"FINAL SUMMARY - {model_name}\")\n",
    "print(f\"{'='*60}\")\n",
    "print(f\"Model Parameters: {total_params:,} (< 25,000 ✓)\")\n",
    "print(f\"Final Training Accuracy: {train_acc[-1]:.2f}%\")\n",
    "print(f\"Final Test Accuracy: {test_acc[-1]:.2f}%\")\n",
    "print(f\"Best Test Accuracy: {best_test_acc:.2f}%\")\n",
    "print(f\"First Epoch Training Accuracy: {train_acc[0]:.2f}%\")\n",
    "\n",
    "if train_acc[0] >= 99.4:\n",
    "    print(f\"\\n✓ SUCCESS: Achieved {train_acc[0]:.2f}% training accuracy in first epoch!\")\n",
    "else:\n",
    "    print(f\"\\n⚠ First epoch accuracy was {train_acc[0]:.2f}% (target was 99.4%)\")\n",
    "    print(\"  Tips to improve:\")\n",
    "    print(\"  - Try the LightweightNet or UltraLightNet models\")\n",
    "    print(\"  - Increase learning rate slightly\")\n",
    "    print(\"  - Use smaller batch size for more updates\")\n",
    "\n",
    "print(f\"{'='*60}\")"
   ]
  }
 ],
 "metadata": {
  "kernelspec": {
   "display_name": "base",
   "language": "python",
   "name": "python3"
  },
  "language_info": {
   "codemirror_mode": {
    "name": "ipython",
    "version": 3
   },
   "file_extension": ".py",
   "mimetype": "text/x-python",
   "name": "python",
   "nbconvert_exporter": "python",
   "pygments_lexer": "ipython3",
   "version": "3.12.7"
  }
 },
 "nbformat": 4,
 "nbformat_minor": 5
}
