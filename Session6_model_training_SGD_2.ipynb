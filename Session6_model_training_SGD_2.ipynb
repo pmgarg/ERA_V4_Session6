{
 "cells": [
  {
   "cell_type": "code",
   "execution_count": 1,
   "id": "e28a22ad",
   "metadata": {},
   "outputs": [],
   "source": [
    "import torch\n",
    "import torch.nn as nn\n",
    "import torch.nn.functional as F\n",
    "import torch.optim as optim\n",
    "from torchvision import datasets, transforms\n",
    "from tqdm import tqdm\n",
    "import matplotlib.pyplot as plt"
   ]
  },
  {
   "cell_type": "code",
   "execution_count": 2,
   "id": "23232bc4",
   "metadata": {},
   "outputs": [
    {
     "name": "stdout",
     "output_type": "stream",
     "text": [
      "MPS Available\n"
     ]
    }
   ],
   "source": [
    "if torch.cuda.is_available():\n",
    "    device = torch.device(\"cuda\")\n",
    "    print(\"CUDA Available\")\n",
    "elif torch.backends.mps.is_available():\n",
    "    device = torch.device(\"mps\")\n",
    "    print(\"MPS Available\")\n",
    "else:\n",
    "    device = torch.device(\"cpu\")\n",
    "    print(\"Using CPU\")"
   ]
  },
  {
   "cell_type": "code",
   "execution_count": 3,
   "id": "6b2c5d51",
   "metadata": {},
   "outputs": [],
   "source": [
    "train_transforms = transforms.Compose([\n",
    "                        transforms.RandomAffine(degrees=7, translate=(0.08, 0.08)),\n",
    "                        transforms.ToTensor(),\n",
    "                        transforms.Normalize((0.1307,), (0.3081,))\n",
    "                        # ,transforms.RandomErasing(p=0.05, scale=(0.02, 0.05), ratio=(0.3, 3.3))  # tiny, optional\n",
    "                        ])\n",
    "test_transforms = transforms.Compose([\n",
    "                        transforms.ToTensor(),\n",
    "                        transforms.Normalize((0.1307,), (0.3081,))\n",
    "                    ])"
   ]
  },
  {
   "cell_type": "code",
   "execution_count": 4,
   "id": "3d173d68",
   "metadata": {},
   "outputs": [],
   "source": [
    "train_data = datasets.MNIST('../data', train=True, download=True, transform=train_transforms)\n",
    "test_data = datasets.MNIST('../data', train=False, download=True, transform=test_transforms)"
   ]
  },
  {
   "cell_type": "code",
   "execution_count": 5,
   "id": "a16161f3",
   "metadata": {},
   "outputs": [],
   "source": [
    "# Data loaders\n",
    "batch_size = 128\n",
    "kwargs = {'batch_size': batch_size, 'shuffle': True, 'num_workers': 2, 'pin_memory': True}\n",
    "\n",
    "train_loader = torch.utils.data.DataLoader(train_data, **kwargs)\n",
    "test_loader = torch.utils.data.DataLoader(test_data, batch_size=1000, shuffle=False)"
   ]
  },
  {
   "cell_type": "code",
   "execution_count": 6,
   "id": "9c0e66ad",
   "metadata": {},
   "outputs": [
    {
     "name": "stderr",
     "output_type": "stream",
     "text": [
      "/opt/anaconda3/lib/python3.12/site-packages/torch/utils/data/dataloader.py:684: UserWarning: 'pin_memory' argument is set as true but not supported on MPS now, then device pinned memory won't be used.\n",
      "  warnings.warn(warn_msg)\n"
     ]
    },
    {
     "data": {
      "image/png": "[encoded data removed]",
      "text/plain": [
       "<Figure size 1200x800 with 12 Axes>"
      ]
     },
     "metadata": {},
     "output_type": "display_data"
    }
   ],
   "source": [
    "# Visualize some training samples\n",
    "def visualize_batch():\n",
    "    batch_data, batch_label = next(iter(train_loader))\n",
    "    fig = plt.figure(figsize=(12, 8))\n",
    "    for i in range(12):\n",
    "        plt.subplot(3, 4, i+1)\n",
    "        plt.tight_layout()\n",
    "        plt.imshow(batch_data[i].squeeze(0), cmap='gray')\n",
    "        plt.title(batch_label[i].item())\n",
    "        plt.xticks([])\n",
    "        plt.yticks([])\n",
    "    plt.show()\n",
    "\n",
    "visualize_batch()"
   ]
  },
  {
   "cell_type": "code",
   "execution_count": 55,
   "id": "7791558c",
   "metadata": {},
   "outputs": [],
   "source": [
    "class Net(nn.Module):\n",
    "    def __init__(self):\n",
    "        super(Net, self).__init__()\n",
    "        # Drastically reduced channels to meet <25K constraint\n",
    "        self.conv1 = nn.Conv2d(1, 7, kernel_size=3, bias=False)  # (3*3*1 + 1) * 14 = 140.   receptive = 3\n",
    "        self.bn1 = nn.BatchNorm2d(7)  # 28\n",
    "\n",
    "        self.conv2 = nn.Conv2d(7, 7, kernel_size=3, bias=False)  # (3*3*14 + 1) * 14 = 1778 receptive = 5\n",
    "        self.bn2 = nn.BatchNorm2d(7)  # 28\n",
    "\n",
    "        self.conv3 = nn.Conv2d(7, 10, kernel_size=3,  bias=False)  # (3*3*14 + 1) * 16 = 2032 receptive = 7\n",
    "        self.bn3 = nn.BatchNorm2d(10)  # 32\n",
    "\n",
    "        self.pool1 = nn.MaxPool2d(2, 2) #  receptive = 8\n",
    "\n",
    "        self.conv4 = nn.Conv2d(10, 10, kernel_size=3, bias=False)  # (3*3*16 + 1) * 18 =  2610  receptive = 12\n",
    "        self.bn4 = nn.BatchNorm2d(10)  # 36\n",
    "        self.conv5 = nn.Conv2d(10, 12, kernel_size=3, bias=False)  # (3*3*18 + 1) * 20 = 3260   receptive = 16\n",
    "        self.bn5 = nn.BatchNorm2d(12) # 40\n",
    "        self.pool2 = nn.MaxPool2d(2, 2)  # 14->7 receptive = 18\n",
    "\n",
    "        self.conv6 = nn.Conv2d(12, 16, kernel_size=3, padding=1, bias=False)  # (3*3*20 + 1) * 22 = 3982 receptive = 26\n",
    "        self.bn6 = nn.BatchNorm2d(16) # 44\n",
    "        self.conv7 = nn.Conv2d(16, 18, kernel_size=3, padding=1, bias=False)  # (3*3*22 + 1) * 22 = 4378 receptive = 34\n",
    "        self.bn7 = nn.BatchNorm2d(18) # 44\n",
    "\n",
    "\n",
    "        self.gap  = nn.AdaptiveAvgPool2d(1)   # add this\n",
    "        self.fc   = nn.Linear(18, 10)         #  22*10 + 10 =220\n",
    "\n",
    "        # self.drop2d = nn.Dropout2d(p=0.1)  # use after conv blocks (feature maps)\n",
    "        # self.dropfc = nn.Dropout(p=0.1)    # use before final Linear (vectors)\n",
    "        # self.conv8 = nn.Sequential(nn.Conv2d(in_channels=14, out_channels=10, kernel_size=(1, 1), padding=0, bias=False))\n",
    "\n",
    "        # 140 + 28 + 1778 + 28 + 2032 + 32 + 2610 + 36 + 3260 + 40 + 3982 + 44 + 4378 + 44 + 220 = 18,662\n",
    "\n",
    "\n",
    "    def forward(self, x):\n",
    "        x = F.relu(self.bn1(self.conv1(x)))\n",
    "        # x = self.drop2d(x)\n",
    "        x = F.relu(self.bn2(self.conv2(x)))\n",
    "        # x = self.drop2d(x)\n",
    "        x = F.relu(self.bn3(self.conv3(x)))\n",
    "        # x = self.drop2d(x)\n",
    "        x = self.pool1(x)\n",
    "\n",
    "        x = F.relu(self.bn4(self.conv4(x)))\n",
    "        # x = self.drop2d(x)\n",
    "        x = F.relu(self.bn5(self.conv5(x)))\n",
    "        # x = self.drop2d(x)\n",
    "        x = self.pool2(x)\n",
    "\n",
    "        x = F.relu(self.bn6(self.conv6(x)))  # 5x5 -> 3x3\n",
    "        # x = self.drop2d(x)\n",
    "        x = F.relu(self.bn7(self.conv7(x)))  # 5x5 -> 3x3\n",
    "        # x = self.drop2d(x)\n",
    "\n",
    "        x = self.gap(x)                             # (N, 26, 1, 1)\n",
    "        x = torch.flatten(x, 1)                     # (N, 26) — SAFE (never drops batch)\n",
    "        # x = self.dropfc(x)\n",
    "        x = self.fc(x)                              # (N, 10)\n",
    "        # x =  self.conv8(x)  # (N, 10) \n",
    "        # x = x.view(-1, 14)\n",
    "        return x\n",
    "\n",
    "    def count_parameters(self):\n",
    "        return sum(p.numel() for p in self.parameters() if p.requires_grad)"
   ]
  },
  {
   "cell_type": "code",
   "execution_count": 56,
   "id": "b108d813",
   "metadata": {},
   "outputs": [],
   "source": [
    "# Training and testing functions\n",
    "train_losses = []\n",
    "test_losses = []\n",
    "train_acc = []\n",
    "test_acc = []\n",
    "model = Net().to(device)  # Using improved model\n",
    "test_incorrect_pred = {'images': [], 'ground_truths': [], 'predicted_vals': []}"
   ]
  },
  {
   "cell_type": "code",
   "execution_count": 57,
   "id": "daaa9138",
   "metadata": {},
   "outputs": [],
   "source": [
    "def GetCorrectPredCount(pPrediction, pLabels):\n",
    "    return pPrediction.argmax(dim=1).eq(pLabels).sum().item()\n",
    "\n",
    "def train(model, device, train_loader, optimizer, criterion, epoch, scheduler=None):\n",
    "    model.train()\n",
    "    pbar = tqdm(train_loader)\n",
    "\n",
    "    train_loss = 0\n",
    "    correct = 0\n",
    "    processed = 0\n",
    "\n",
    "    for batch_idx, (data, target) in enumerate(pbar):\n",
    "        data, target = data.to(device), target.to(device)\n",
    "        optimizer.zero_grad()\n",
    "\n",
    "        pred = model(data)\n",
    "        loss = criterion(pred, target)\n",
    "        train_loss += loss.item()\n",
    "\n",
    "        loss.backward()\n",
    "        optimizer.step()\n",
    "\n",
    "        if scheduler is not None:\n",
    "            scheduler.step()\n",
    "\n",
    "        correct += GetCorrectPredCount(pred, target)\n",
    "        processed += len(data)\n",
    "\n",
    "        pbar.set_description(desc=f'Epoch {epoch} | Loss={loss.item():0.4f} | Acc={100*correct/processed:0.2f}%')\n",
    "\n",
    "    train_accuracy = 100*correct/processed\n",
    "    train_acc.append(train_accuracy)\n",
    "    train_losses.append(train_loss/len(train_loader))\n",
    "\n",
    "    print(f'\\nTraining - Epoch {epoch}:')\n",
    "    print(f'  Accuracy: {correct}/{processed} ({train_accuracy:.2f}%)')\n",
    "    print(f'  Avg Loss: {train_loss/len(train_loader):.4f}')\n",
    "\n",
    "    return train_accuracy\n",
    "\n",
    "def test(model, device, test_loader, criterion):\n",
    "    model.eval()\n",
    "\n",
    "    test_loss = 0\n",
    "    correct = 0\n",
    "\n",
    "    with torch.no_grad():\n",
    "        for data, target in test_loader:\n",
    "            data, target = data.to(device), target.to(device)\n",
    "            output = model(data)\n",
    "            test_loss += criterion(output, target).item() * len(data)\n",
    "            correct += GetCorrectPredCount(output, target)\n",
    "\n",
    "    test_loss /= len(test_loader.dataset)\n",
    "    accuracy = 100. * correct / len(test_loader.dataset)\n",
    "    test_acc.append(accuracy)\n",
    "    test_losses.append(test_loss)\n",
    "\n",
    "    print(f'Test Results:')\n",
    "    print(f'  Accuracy: {correct}/{len(test_loader.dataset)} ({accuracy:.2f}%)')\n",
    "    print(f'  Avg Loss: {test_loss:.4f}')\n",
    "\n",
    "    return accuracy"
   ]
  },
  {
   "cell_type": "code",
   "execution_count": 58,
   "id": "f2fae31b",
   "metadata": {},
   "outputs": [
    {
     "name": "stdout",
     "output_type": "stream",
     "text": [
      "\n",
      "Model Parameters: 7,784\n",
      "Model Architecture:\n",
      "Net(\n",
      "  (conv1): Conv2d(1, 7, kernel_size=(3, 3), stride=(1, 1), bias=False)\n",
      "  (bn1): BatchNorm2d(7, eps=1e-05, momentum=0.1, affine=True, track_running_stats=True)\n",
      "  (conv2): Conv2d(7, 7, kernel_size=(3, 3), stride=(1, 1), bias=False)\n",
      "  (bn2): BatchNorm2d(7, eps=1e-05, momentum=0.1, affine=True, track_running_stats=True)\n",
      "  (conv3): Conv2d(7, 10, kernel_size=(3, 3), stride=(1, 1), bias=False)\n",
      "  (bn3): BatchNorm2d(10, eps=1e-05, momentum=0.1, affine=True, track_running_stats=True)\n",
      "  (pool1): MaxPool2d(kernel_size=2, stride=2, padding=0, dilation=1, ceil_mode=False)\n",
      "  (conv4): Conv2d(10, 10, kernel_size=(3, 3), stride=(1, 1), bias=False)\n",
      "  (bn4): BatchNorm2d(10, eps=1e-05, momentum=0.1, affine=True, track_running_stats=True)\n",
      "  (conv5): Conv2d(10, 12, kernel_size=(3, 3), stride=(1, 1), bias=False)\n",
      "  (bn5): BatchNorm2d(12, eps=1e-05, momentum=0.1, affine=True, track_running_stats=True)\n",
      "  (pool2): MaxPool2d(kernel_size=2, stride=2, padding=0, dilation=1, ceil_mode=False)\n",
      "  (conv6): Conv2d(12, 16, kernel_size=(3, 3), stride=(1, 1), padding=(1, 1), bias=False)\n",
      "  (bn6): BatchNorm2d(16, eps=1e-05, momentum=0.1, affine=True, track_running_stats=True)\n",
      "  (conv7): Conv2d(16, 18, kernel_size=(3, 3), stride=(1, 1), padding=(1, 1), bias=False)\n",
      "  (bn7): BatchNorm2d(18, eps=1e-05, momentum=0.1, affine=True, track_running_stats=True)\n",
      "  (gap): AdaptiveAvgPool2d(output_size=1)\n",
      "  (fc): Linear(in_features=18, out_features=10, bias=True)\n",
      ")\n",
      "==================================================\n",
      "\n",
      "Optimizer: SGD (lr=0.006, weight_decay=1e-6)\n",
      "Loss: CrossEntropyLoss\n",
      "Epochs: 20\n",
      "Batch Size: 128\n",
      "Training Samples: 60,000\n",
      "Test Samples: 10,000\n",
      "============================================================\n",
      "\n",
      "Starting training...\n"
     ]
    },
    {
     "name": "stderr",
     "output_type": "stream",
     "text": [
      "Epoch 1 | Loss=0.3446 | Acc=78.47%: 100%|██████████| 469/469 [00:05<00:00, 90.47it/s] \n"
     ]
    },
    {
     "name": "stdout",
     "output_type": "stream",
     "text": [
      "\n",
      "Training - Epoch 1:\n",
      "  Accuracy: 47083/60000 (78.47%)\n",
      "  Avg Loss: 0.8849\n",
      "Test Results:\n",
      "  Accuracy: 9635/10000 (96.35%)\n",
      "  Avg Loss: 0.3208\n"
     ]
    },
    {
     "name": "stderr",
     "output_type": "stream",
     "text": [
      "Epoch 2 | Loss=0.2501 | Acc=96.28%: 100%|██████████| 469/469 [00:05<00:00, 92.74it/s] \n"
     ]
    },
    {
     "name": "stdout",
     "output_type": "stream",
     "text": [
      "\n",
      "Training - Epoch 2:\n",
      "  Accuracy: 57769/60000 (96.28%)\n",
      "  Avg Loss: 0.3234\n",
      "Test Results:\n",
      "  Accuracy: 9758/10000 (97.58%)\n",
      "  Avg Loss: 0.2863\n"
     ]
    },
    {
     "name": "stderr",
     "output_type": "stream",
     "text": [
      "Epoch 3 | Loss=0.2933 | Acc=97.40%: 100%|██████████| 469/469 [00:05<00:00, 93.43it/s] \n"
     ]
    },
    {
     "name": "stdout",
     "output_type": "stream",
     "text": [
      "\n",
      "Training - Epoch 3:\n",
      "  Accuracy: 58438/60000 (97.40%)\n",
      "  Avg Loss: 0.2870\n",
      "Test Results:\n",
      "  Accuracy: 9767/10000 (97.67%)\n",
      "  Avg Loss: 0.2761\n"
     ]
    },
    {
     "name": "stderr",
     "output_type": "stream",
     "text": [
      "Epoch 4 | Loss=0.2319 | Acc=97.78%: 100%|██████████| 469/469 [00:04<00:00, 94.13it/s] \n"
     ]
    },
    {
     "name": "stdout",
     "output_type": "stream",
     "text": [
      "\n",
      "Training - Epoch 4:\n",
      "  Accuracy: 58671/60000 (97.78%)\n",
      "  Avg Loss: 0.2708\n",
      "Test Results:\n",
      "  Accuracy: 9868/10000 (98.68%)\n",
      "  Avg Loss: 0.2434\n"
     ]
    },
    {
     "name": "stderr",
     "output_type": "stream",
     "text": [
      "Epoch 5 | Loss=0.2236 | Acc=98.04%: 100%|██████████| 469/469 [00:05<00:00, 91.77it/s] \n"
     ]
    },
    {
     "name": "stdout",
     "output_type": "stream",
     "text": [
      "\n",
      "Training - Epoch 5:\n",
      "  Accuracy: 58822/60000 (98.04%)\n",
      "  Avg Loss: 0.2597\n",
      "Test Results:\n",
      "  Accuracy: 9895/10000 (98.95%)\n",
      "  Avg Loss: 0.2285\n"
     ]
    },
    {
     "name": "stderr",
     "output_type": "stream",
     "text": [
      "Epoch 6 | Loss=0.2182 | Acc=98.36%: 100%|██████████| 469/469 [00:05<00:00, 92.79it/s] \n"
     ]
    },
    {
     "name": "stdout",
     "output_type": "stream",
     "text": [
      "\n",
      "Training - Epoch 6:\n",
      "  Accuracy: 59013/60000 (98.36%)\n",
      "  Avg Loss: 0.2505\n",
      "Test Results:\n",
      "  Accuracy: 9906/10000 (99.06%)\n",
      "  Avg Loss: 0.2298\n"
     ]
    },
    {
     "name": "stderr",
     "output_type": "stream",
     "text": [
      "Epoch 7 | Loss=0.2066 | Acc=98.38%: 100%|██████████| 469/469 [00:05<00:00, 93.18it/s] \n"
     ]
    },
    {
     "name": "stdout",
     "output_type": "stream",
     "text": [
      "\n",
      "Training - Epoch 7:\n",
      "  Accuracy: 59025/60000 (98.38%)\n",
      "  Avg Loss: 0.2473\n",
      "Test Results:\n",
      "  Accuracy: 9913/10000 (99.13%)\n",
      "  Avg Loss: 0.2233\n"
     ]
    },
    {
     "name": "stderr",
     "output_type": "stream",
     "text": [
      "Epoch 8 | Loss=0.2558 | Acc=98.47%: 100%|██████████| 469/469 [00:05<00:00, 91.78it/s] \n"
     ]
    },
    {
     "name": "stdout",
     "output_type": "stream",
     "text": [
      "\n",
      "Training - Epoch 8:\n",
      "  Accuracy: 59080/60000 (98.47%)\n",
      "  Avg Loss: 0.2425\n",
      "Test Results:\n",
      "  Accuracy: 9914/10000 (99.14%)\n",
      "  Avg Loss: 0.2238\n"
     ]
    },
    {
     "name": "stderr",
     "output_type": "stream",
     "text": [
      "Epoch 9 | Loss=0.2571 | Acc=98.59%: 100%|██████████| 469/469 [00:05<00:00, 92.18it/s] \n"
     ]
    },
    {
     "name": "stdout",
     "output_type": "stream",
     "text": [
      "\n",
      "Training - Epoch 9:\n",
      "  Accuracy: 59155/60000 (98.59%)\n",
      "  Avg Loss: 0.2388\n",
      "Test Results:\n",
      "  Accuracy: 9929/10000 (99.29%)\n",
      "  Avg Loss: 0.2181\n"
     ]
    },
    {
     "name": "stderr",
     "output_type": "stream",
     "text": [
      "Epoch 10 | Loss=0.2246 | Acc=98.64%: 100%|██████████| 469/469 [00:05<00:00, 90.98it/s] \n"
     ]
    },
    {
     "name": "stdout",
     "output_type": "stream",
     "text": [
      "\n",
      "Training - Epoch 10:\n",
      "  Accuracy: 59181/60000 (98.64%)\n",
      "  Avg Loss: 0.2373\n",
      "Test Results:\n",
      "  Accuracy: 9897/10000 (98.97%)\n",
      "  Avg Loss: 0.2209\n"
     ]
    },
    {
     "name": "stderr",
     "output_type": "stream",
     "text": [
      "Epoch 11 | Loss=0.2091 | Acc=98.61%: 100%|██████████| 469/469 [00:05<00:00, 92.89it/s] \n"
     ]
    },
    {
     "name": "stdout",
     "output_type": "stream",
     "text": [
      "\n",
      "Training - Epoch 11:\n",
      "  Accuracy: 59168/60000 (98.61%)\n",
      "  Avg Loss: 0.2355\n",
      "Test Results:\n",
      "  Accuracy: 9924/10000 (99.24%)\n",
      "  Avg Loss: 0.2196\n"
     ]
    },
    {
     "name": "stderr",
     "output_type": "stream",
     "text": [
      "Epoch 12 | Loss=0.2701 | Acc=98.79%: 100%|██████████| 469/469 [00:05<00:00, 93.39it/s] \n"
     ]
    },
    {
     "name": "stdout",
     "output_type": "stream",
     "text": [
      "\n",
      "Training - Epoch 12:\n",
      "  Accuracy: 59274/60000 (98.79%)\n",
      "  Avg Loss: 0.2316\n",
      "Test Results:\n",
      "  Accuracy: 9932/10000 (99.32%)\n",
      "  Avg Loss: 0.2139\n"
     ]
    },
    {
     "name": "stderr",
     "output_type": "stream",
     "text": [
      "Epoch 13 | Loss=0.2345 | Acc=98.78%: 100%|██████████| 469/469 [00:05<00:00, 91.91it/s] \n"
     ]
    },
    {
     "name": "stdout",
     "output_type": "stream",
     "text": [
      "\n",
      "Training - Epoch 13:\n",
      "  Accuracy: 59269/60000 (98.78%)\n",
      "  Avg Loss: 0.2316\n",
      "Test Results:\n",
      "  Accuracy: 9937/10000 (99.37%)\n",
      "  Avg Loss: 0.2124\n"
     ]
    },
    {
     "name": "stderr",
     "output_type": "stream",
     "text": [
      "Epoch 14 | Loss=0.2119 | Acc=98.80%: 100%|██████████| 469/469 [00:05<00:00, 91.13it/s] \n"
     ]
    },
    {
     "name": "stdout",
     "output_type": "stream",
     "text": [
      "\n",
      "Training - Epoch 14:\n",
      "  Accuracy: 59281/60000 (98.80%)\n",
      "  Avg Loss: 0.2300\n",
      "Test Results:\n",
      "  Accuracy: 9935/10000 (99.35%)\n",
      "  Avg Loss: 0.2110\n"
     ]
    },
    {
     "name": "stderr",
     "output_type": "stream",
     "text": [
      "Epoch 15 | Loss=0.2235 | Acc=98.84%: 100%|██████████| 469/469 [00:05<00:00, 92.19it/s] \n"
     ]
    },
    {
     "name": "stdout",
     "output_type": "stream",
     "text": [
      "\n",
      "Training - Epoch 15:\n",
      "  Accuracy: 59307/60000 (98.84%)\n",
      "  Avg Loss: 0.2282\n",
      "Test Results:\n",
      "  Accuracy: 9932/10000 (99.32%)\n",
      "  Avg Loss: 0.2111\n"
     ]
    },
    {
     "name": "stderr",
     "output_type": "stream",
     "text": [
      "Epoch 16 | Loss=0.2166 | Acc=98.94%: 100%|██████████| 469/469 [00:05<00:00, 92.03it/s] \n"
     ]
    },
    {
     "name": "stdout",
     "output_type": "stream",
     "text": [
      "\n",
      "Training - Epoch 16:\n",
      "  Accuracy: 59367/60000 (98.94%)\n",
      "  Avg Loss: 0.2252\n",
      "Test Results:\n",
      "  Accuracy: 9942/10000 (99.42%)\n",
      "  Avg Loss: 0.2091\n"
     ]
    },
    {
     "name": "stderr",
     "output_type": "stream",
     "text": [
      "Epoch 17 | Loss=0.2046 | Acc=98.96%: 100%|██████████| 469/469 [00:05<00:00, 91.10it/s] \n"
     ]
    },
    {
     "name": "stdout",
     "output_type": "stream",
     "text": [
      "\n",
      "Training - Epoch 17:\n",
      "  Accuracy: 59377/60000 (98.96%)\n",
      "  Avg Loss: 0.2247\n",
      "Test Results:\n",
      "  Accuracy: 9949/10000 (99.49%)\n",
      "  Avg Loss: 0.2091\n"
     ]
    },
    {
     "name": "stderr",
     "output_type": "stream",
     "text": [
      "Epoch 18 | Loss=0.2024 | Acc=99.03%: 100%|██████████| 469/469 [00:05<00:00, 91.58it/s] \n"
     ]
    },
    {
     "name": "stdout",
     "output_type": "stream",
     "text": [
      "\n",
      "Training - Epoch 18:\n",
      "  Accuracy: 59416/60000 (99.03%)\n",
      "  Avg Loss: 0.2230\n",
      "Test Results:\n",
      "  Accuracy: 9956/10000 (99.56%)\n",
      "  Avg Loss: 0.2074\n"
     ]
    },
    {
     "name": "stderr",
     "output_type": "stream",
     "text": [
      "Epoch 19 | Loss=0.2048 | Acc=99.10%: 100%|██████████| 469/469 [00:05<00:00, 89.68it/s] \n"
     ]
    },
    {
     "name": "stdout",
     "output_type": "stream",
     "text": [
      "\n",
      "Training - Epoch 19:\n",
      "  Accuracy: 59458/60000 (99.10%)\n",
      "  Avg Loss: 0.2204\n",
      "Test Results:\n",
      "  Accuracy: 9951/10000 (99.51%)\n",
      "  Avg Loss: 0.2068\n"
     ]
    },
    {
     "name": "stderr",
     "output_type": "stream",
     "text": [
      "Epoch 20 | Loss=0.2223 | Acc=99.08%: 100%|██████████| 469/469 [00:05<00:00, 90.50it/s] \n"
     ]
    },
    {
     "name": "stdout",
     "output_type": "stream",
     "text": [
      "\n",
      "Training - Epoch 20:\n",
      "  Accuracy: 59447/60000 (99.08%)\n",
      "  Avg Loss: 0.2211\n",
      "Test Results:\n",
      "  Accuracy: 9953/10000 (99.53%)\n",
      "  Avg Loss: 0.2069\n"
     ]
    }
   ],
   "source": [
    "# Training setup\n",
    "from torch.optim.lr_scheduler import OneCycleLR\n",
    "total_params = model.count_parameters()\n",
    "print(f\"\\nModel Parameters: {total_params:,}\")\n",
    "print(f\"Model Architecture:\")\n",
    "print(model)\n",
    "print(\"=\"*50 + \"\\n\")\n",
    "\n",
    "# Use AdamW for better regularization with small models\n",
    "optimizer = optim.SGD(model.parameters(), lr=0.006, weight_decay=1e-6)\n",
    "print(f\"Optimizer: SGD (lr=0.006, weight_decay=1e-6)\")\n",
    "\n",
    "\n",
    "criterion = nn.CrossEntropyLoss(label_smoothing=0.03)\n",
    "num_epochs = 20\n",
    "scheduler = OneCycleLR(\n",
    "    optimizer,\n",
    "    max_lr=0.04,                        # try 0.008–0.02; 0.01 is a good start\n",
    "    epochs=num_epochs,\n",
    "    steps_per_epoch=len(train_loader),\n",
    "    pct_start=0.3,                      # warmup portion\n",
    "    div_factor=10, final_div_factor=100\n",
    "    # ,anneal_strategy=\"cos\"\n",
    ")\n",
    "\n",
    "\n",
    "\n",
    "print(f\"Loss: CrossEntropyLoss\")\n",
    "print(f\"Epochs: {num_epochs}\")\n",
    "print(f\"Batch Size: {batch_size}\")\n",
    "print(f\"Training Samples: {len(train_data):,}\")\n",
    "print(f\"Test Samples: {len(test_data):,}\")\n",
    "print(\"=\"*60 + \"\\n\")\n",
    "\n",
    "# Training loop\n",
    "print(\"Starting training...\")\n",
    "best_test_acc = 0\n",
    "\n",
    "for epoch in range(1, num_epochs+1):\n",
    "    # Train\n",
    "    train_accuracy = train(model, device, train_loader, optimizer, criterion, epoch, scheduler)\n",
    "\n",
    "    # Test\n",
    "    test_accuracy = test(model, device, test_loader, criterion)\n",
    "    \n"
   ]
  },
  {
   "cell_type": "code",
   "execution_count": 47,
   "id": "2f89d016",
   "metadata": {},
   "outputs": [
    {
     "data": {
      "image/png": "[encoded data removed]",
      "text/plain": [
       "<Figure size 1500x1000 with 4 Axes>"
      ]
     },
     "metadata": {},
     "output_type": "display_data"
    },
    {
     "name": "stdout",
     "output_type": "stream",
     "text": [
      "\n",
      "============================================================\n",
      "============================================================\n",
      "Model Parameters: 7,550 (< 25,000 ✓)\n",
      "Final Training Accuracy: 99.12%\n",
      "Final Test Accuracy: 99.42%\n",
      "Best Test Accuracy: 0.00%\n",
      "First Epoch Training Accuracy: 82.64%\n",
      "\n",
      "⚠ First epoch accuracy was 82.64% (target was 99.4%)\n",
      "  Tips to improve:\n",
      "  - Try the LightweightNet or UltraLightNet models\n",
      "  - Increase learning rate slightly\n",
      "  - Use smaller batch size for more updates\n",
      "============================================================\n"
     ]
    }
   ],
   "source": [
    "# Plot results\n",
    "fig, axs = plt.subplots(2, 2, figsize=(15, 10))\n",
    "\n",
    "# Training Loss\n",
    "axs[0, 0].plot(train_losses, 'b-', linewidth=2)\n",
    "#axs[0, 0].set_title(f\"Training Loss ({model_name})\", fontsize=12, fontweight='bold')\n",
    "axs[0, 0].set_xlabel(\"Epoch\")\n",
    "axs[0, 0].set_ylabel(\"Loss\")\n",
    "axs[0, 0].grid(True, alpha=0.3)\n",
    "\n",
    "# Training Accuracy\n",
    "axs[1, 0].plot(train_acc, 'g-', linewidth=2)\n",
    "#axs[1, 0].set_title(f\"Training Accuracy ({model_name})\", fontsize=12, fontweight='bold')\n",
    "axs[1, 0].set_xlabel(\"Epoch\")\n",
    "axs[1, 0].set_ylabel(\"Accuracy (%)\")\n",
    "axs[1, 0].grid(True, alpha=0.3)\n",
    "axs[1, 0].axhline(y=99.4, color='r', linestyle='--', alpha=0.5, label='Target: 99.4%')\n",
    "axs[1, 0].legend()\n",
    "\n",
    "# Test Loss\n",
    "axs[0, 1].plot(test_losses, 'r-', linewidth=2)\n",
    "#axs[0, 1].set_title(f\"Test Loss ({model_name})\", fontsize=12, fontweight='bold')\n",
    "axs[0, 1].set_xlabel(\"Epoch\")\n",
    "axs[0, 1].set_ylabel(\"Loss\")\n",
    "axs[0, 1].grid(True, alpha=0.3)\n",
    "\n",
    "# Test Accuracy\n",
    "axs[1, 1].plot(test_acc, 'orange', linewidth=2)\n",
    "#axs[1, 1].set_title(f\"Test Accuracy ({model_name})\", fontsize=12, fontweight='bold')\n",
    "axs[1, 1].set_xlabel(\"Epoch\")\n",
    "axs[1, 1].set_ylabel(\"Accuracy (%)\")\n",
    "axs[1, 1].grid(True, alpha=0.3)\n",
    "\n",
    "#plt.suptitle(f\"Training Results - {model_name} ({total_params:,} parameters)\", fontsize=14, fontweight='bold')\n",
    "plt.tight_layout()\n",
    "plt.show()\n",
    "\n",
    "# Final summary\n",
    "print(f\"\\n{'='*60}\")\n",
    "#print(f\"FINAL SUMMARY - {model_name}\")\n",
    "print(f\"{'='*60}\")\n",
    "print(f\"Model Parameters: {total_params:,} (< 25,000 ✓)\")\n",
    "print(f\"Final Training Accuracy: {train_acc[-1]:.2f}%\")\n",
    "print(f\"Final Test Accuracy: {test_acc[-1]:.2f}%\")\n",
    "print(f\"Best Test Accuracy: {best_test_acc:.2f}%\")\n",
    "print(f\"First Epoch Training Accuracy: {train_acc[0]:.2f}%\")\n",
    "\n",
    "if train_acc[0] >= 99.4:\n",
    "    print(f\"\\n✓ SUCCESS: Achieved {train_acc[0]:.2f}% training accuracy in first epoch!\")\n",
    "else:\n",
    "    print(f\"\\n⚠ First epoch accuracy was {train_acc[0]:.2f}% (target was 99.4%)\")\n",
    "    print(\"  Tips to improve:\")\n",
    "    print(\"  - Try the LightweightNet or UltraLightNet models\")\n",
    "    print(\"  - Increase learning rate slightly\")\n",
    "    print(\"  - Use smaller batch size for more updates\")\n",
    "\n",
    "print(f\"{'='*60}\")"
   ]
  }
 ],
 "metadata": {
  "kernelspec": {
   "display_name": "base",
   "language": "python",
   "name": "python3"
  },
  "language_info": {
   "codemirror_mode": {
    "name": "ipython",
    "version": 3
   },
   "file_extension": ".py",
   "mimetype": "text/x-python",
   "name": "python",
   "nbconvert_exporter": "python",
   "pygments_lexer": "ipython3",
   "version": "3.12.7"
  }
 },
 "nbformat": 4,
 "nbformat_minor": 5
}
